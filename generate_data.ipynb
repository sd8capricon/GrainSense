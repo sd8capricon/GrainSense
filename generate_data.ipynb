{
 "cells": [
  {
   "cell_type": "markdown",
   "metadata": {},
   "source": [
    "### Step 1: Setting Up libraries"
   ]
  },
  {
   "cell_type": "markdown",
   "metadata": {},
   "source": [
    "#### Installing \n",
    "- earthengine-api (Google Earth Engine API) for accessing Google Earth Engine\n",
    "- geemap (Google Earth Engine Python API) for visualizing and analyzing Earth Engine datasets interactively in a Jupyter notebook\n",
    "- geetools (Community tools for Google Earth Engine Python API) for helping with tasks such as batch processing and exporting images from Earth Engine"
   ]
  },
  {
   "cell_type": "code",
   "execution_count": null,
   "metadata": {},
   "outputs": [],
   "source": [
    "# %pip install earthengine-api geetools geemap pycrs GDAL"
   ]
  },
  {
   "cell_type": "markdown",
   "metadata": {},
   "source": [
    "Upgrading Earth Engine Python API"
   ]
  },
  {
   "cell_type": "code",
   "execution_count": null,
   "metadata": {},
   "outputs": [],
   "source": [
    "# %pip install earthengine-api geetools --upgrade"
   ]
  },
  {
   "cell_type": "code",
   "execution_count": null,
   "metadata": {},
   "outputs": [],
   "source": [
    "import ee\n",
    "import geemap\n",
    "import geetools as gt\n",
    "import numpy as np\n",
    "import pandas as pd\n",
    "from ipywidgets import Layout\n",
    "\n",
    "Map = geemap.Map(layout=Layout(height='600px'))\n",
    "Map.add_basemap('HYBRID')"
   ]
  },
  {
   "cell_type": "markdown",
   "metadata": {},
   "source": [
    "### Step 2: Initialization"
   ]
  },
  {
   "cell_type": "markdown",
   "metadata": {},
   "source": [
    "Importing libraries"
   ]
  },
  {
   "cell_type": "code",
   "execution_count": null,
   "metadata": {},
   "outputs": [],
   "source": [
    "# ee.Authenticate()"
   ]
  },
  {
   "cell_type": "code",
   "execution_count": null,
   "metadata": {},
   "outputs": [],
   "source": [
    "ee.Initialize()"
   ]
  },
  {
   "cell_type": "markdown",
   "metadata": {},
   "source": [
    "Setup Variables"
   ]
  },
  {
   "cell_type": "code",
   "execution_count": null,
   "metadata": {},
   "outputs": [],
   "source": [
    "# export resolution in m/px\n",
    "SCALE = 10\n",
    "\n",
    "# name of the label \n",
    "# 0 is agri\n",
    "# 1 is water\n",
    "# 2 is urban\n",
    "# 3 is barren\n",
    "AGRI = 0\n",
    "WATER = 1\n",
    "URBAN = 2\n",
    "BARREN = 3\n",
    "\n",
    "# Bands to be used\n",
    "BANDS = ['B2', 'B3', 'B4', 'B8']\n",
    "\n",
    "# POINTS Location\n",
    "LABELS = [\n",
    "    {\n",
    "        \"name\": \"Agri\",\n",
    "        # path to the geojson file containing the points\n",
    "        \"src\": \"./Data/featureCollections/Agricultural_Land.geojson\",\n",
    "        \"class\": AGRI\n",
    "    },\n",
    "    {\n",
    "        \"name\": \"Water\",\n",
    "        \"src\": \"./Data/featureCollections/Water.geojson\",\n",
    "        \"class\": WATER\n",
    "    },\n",
    "    {\n",
    "        \"name\": \"Urban\",\n",
    "        \"src\": \"./Data/featureCollections/BuildUp.geojson\",\n",
    "        \"class\": URBAN\n",
    "    },\n",
    "    {\n",
    "        \"name\": \"Barren\",\n",
    "        \"src\": \"./Data/featureCollections/Barren.geojson\",\n",
    "        \"class\": BARREN\n",
    "    }\n",
    "]\n",
    "\n",
    "# Visualization parameters\n",
    "SFCC = {'bands': ['B8', 'B4', 'B3'], 'max': 3000}\n",
    "\n",
    "# Drive Folder to save the data\n",
    "FOLDER = \"GEE\""
   ]
  },
  {
   "cell_type": "markdown",
   "metadata": {},
   "source": [
    "Downloading S2 data"
   ]
  },
  {
   "cell_type": "code",
   "execution_count": null,
   "metadata": {},
   "outputs": [],
   "source": [
    "roi = geemap.shp_to_ee(\"./Data/sangamner_shp/sangamner.shp\")\n",
    "s2 = ee.ImageCollection('COPERNICUS/S2').filterDate('2023-01-01', '2023-02-02').filter(\n",
    "    ee.Filter.lt('CLOUDY_PIXEL_PERCENTAGE', 5)).filterBounds(roi)\n",
    "display(s2)\n",
    "Map.centerObject(roi, 10)"
   ]
  },
  {
   "cell_type": "markdown",
   "metadata": {},
   "source": [
    "### Step 3: Processing Points"
   ]
  },
  {
   "cell_type": "code",
   "execution_count": null,
   "metadata": {},
   "outputs": [],
   "source": [
    "s2_list = s2.toList(s2.size())\n",
    "s2_list"
   ]
  },
  {
   "cell_type": "code",
   "execution_count": null,
   "metadata": {},
   "outputs": [],
   "source": [
    "img = ee.Image(s2_list.get(2)).clip(roi)\n",
    "img = img.select(BANDS)\n",
    "Map.addLayer(img, SFCC, 'FCC')"
   ]
  },
  {
   "cell_type": "code",
   "execution_count": null,
   "metadata": {},
   "outputs": [],
   "source": [
    "img"
   ]
  },
  {
   "cell_type": "code",
   "execution_count": null,
   "metadata": {},
   "outputs": [],
   "source": [
    "# Importing Collections\n",
    "collections = []\n",
    "for label in LABELS:\n",
    "    collections.append(geemap.geojson_to_ee(label['src']))"
   ]
  },
  {
   "cell_type": "code",
   "execution_count": null,
   "metadata": {},
   "outputs": [],
   "source": [
    "collections[WATER]"
   ]
  },
  {
   "cell_type": "code",
   "execution_count": null,
   "metadata": {},
   "outputs": [],
   "source": [
    "h_w = 100 #hxw meters, actually 10m extra on each dim final patch 110mx110m\n",
    "# since buffer will extend 50m on each side\n",
    "\n",
    "# Function to get the patch and the geometry from a point feature\n",
    "def getPatch(feature: ee.Feature, image: ee.Image) -> tuple[ee.Image, ee.Geometry]:\n",
    "    buffer_out = feature.buffer(int(h_w/2))\n",
    "    buffer_out = buffer_out.bounds()\n",
    "    # rectangle_region = ee.Geometry.Rectangle(buffer_out)\n",
    "    patch= image.clip(buffer_out)\n",
    "    return patch, buffer_out\n",
    "\n",
    "# Function to build the bounding boxes around the point features\n",
    "def buildBoundingBoxes(featureCollection: ee.FeatureCollection) -> ee.FeatureCollection:\n",
    "    f = lambda feature, previous: ee.FeatureCollection(previous).merge(feature.buffer(int(h_w/2)).bounds().geometry())\n",
    "    return ee.FeatureCollection(featureCollection.iterate(f, ee.FeatureCollection([])))\n",
    "\n",
    "# Function to reformat the feature collection to add the label\n",
    "def reformatFeatureCollection(featureCollection: ee.FeatureCollection, label:int) -> ee.FeatureCollection:\n",
    "    newFList = []\n",
    "    fSize = featureCollection.size().getInfo()\n",
    "    fList = featureCollection.toList(fSize)\n",
    "    for i in range(fSize):\n",
    "        fGeometry = ee.Feature(fList.get(i)).geometry()\n",
    "        newFeature = ee.Feature(fGeometry, {'label': label})\n",
    "        newFList.append(newFeature)\n",
    "    return ee.FeatureCollection(newFList)\n",
    "\n",
    "# Function to build the image collection from the feature collection\n",
    "def buildImageCollection(featureCollection: ee.FeatureCollection, image: ee.Image) -> ee.ImageCollection:\n",
    "    f = lambda feature, previous: ee.ImageCollection(previous).merge(getPatch(feature, image)[0])\n",
    "    return ee.ImageCollection(featureCollection.iterate(f, ee.ImageCollection([])))\n",
    "\n",
    "# Function to map the image and the geometry\n",
    "def mapImageGeometry(featureCollection: ee.FeatureCollection, image:ee.Image) -> list:\n",
    "    imageGeoList = []\n",
    "    fColSize = featureCollection.size().getInfo()\n",
    "    fColList = featureCollection.toList(fColSize)\n",
    "    for i in range(fColSize):\n",
    "        feature = ee.Feature(fColList.get(i))\n",
    "        patch, buffer_out = getPatch(feature, image)\n",
    "        item = {'image': patch, 'bounds': buffer_out}\n",
    "        imageGeoList.append(item)\n",
    "    return imageGeoList"
   ]
  },
  {
   "cell_type": "code",
   "execution_count": null,
   "metadata": {},
   "outputs": [],
   "source": [
    "# build bounding boxes\n",
    "bounds = []\n",
    "for label in LABELS:\n",
    "    bounds.append(\n",
    "        reformatFeatureCollection(\n",
    "            featureCollection=buildBoundingBoxes(collections[label[\"class\"]]),\n",
    "            label=label[\"class\"]\n",
    "        )\n",
    "    )"
   ]
  },
  {
   "cell_type": "code",
   "execution_count": null,
   "metadata": {},
   "outputs": [],
   "source": [
    "display(bounds[AGRI].size().getInfo())\n",
    "display(bounds[AGRI].first().getInfo())"
   ]
  },
  {
   "cell_type": "code",
   "execution_count": null,
   "metadata": {},
   "outputs": [],
   "source": [
    "def exportFilesToDrive():\n",
    "    export_img_task = ee.batch.Export.image.toDrive(\n",
    "        image=img, description=\"FCC\", folder=FOLDER, scale=SCALE, region=roi\n",
    "    )\n",
    "    export_img_task.start()\n",
    "    for label in LABELS:\n",
    "        name = \"{}_{}Bounds\".format(label[\"class\"], label[\"name\"])\n",
    "        export_task = ee.batch.Export.table.toDrive(\n",
    "            collection=bounds[label[\"class\"]],\n",
    "            description=name,\n",
    "            fileNamePrefix=name,\n",
    "            folder=FOLDER,\n",
    "            fileFormat=\"SHP\",\n",
    "        )\n",
    "        export_task.start()"
   ]
  },
  {
   "cell_type": "code",
   "execution_count": null,
   "metadata": {},
   "outputs": [],
   "source": [
    "for label in LABELS:\n",
    "    Map.addLayer(bounds[label[\"class\"]], {}, \"{}Bounds\".format(label[\"name\"]))\n",
    "Map.centerObject(bounds[AGRI].first())"
   ]
  },
  {
   "cell_type": "code",
   "execution_count": null,
   "metadata": {},
   "outputs": [],
   "source": [
    "display(Map)"
   ]
  },
  {
   "cell_type": "code",
   "execution_count": null,
   "metadata": {},
   "outputs": [],
   "source": [
    "# exportFilesToDrive()"
   ]
  },
  {
   "cell_type": "code",
   "execution_count": null,
   "metadata": {},
   "outputs": [],
   "source": [
    "agriImages = buildImageCollection(collections[AGRI], img)\n",
    "waterImages = buildImageCollection(collections[WATER], img)\n",
    "buildupImages = buildImageCollection(collections[URBAN], img)\n",
    "barrenImages = buildImageCollection(collections[BARREN], img)"
   ]
  },
  {
   "cell_type": "code",
   "execution_count": null,
   "metadata": {},
   "outputs": [],
   "source": [
    "Map.addLayer(agriImages, SFCC, \"agriCropped\")\n",
    "Map.addLayer(waterImages, SFCC, \"waterCropped\")\n",
    "Map.addLayer(buildupImages, SFCC, \"buildUpCropped\")\n",
    "Map.addLayer(barrenImages, SFCC, \"barrenCropped\")"
   ]
  },
  {
   "cell_type": "code",
   "execution_count": null,
   "metadata": {},
   "outputs": [],
   "source": [
    "display(Map)"
   ]
  }
 ],
 "metadata": {
  "kernelspec": {
   "display_name": ".venv",
   "language": "python",
   "name": "python3"
  },
  "language_info": {
   "codemirror_mode": {
    "name": "ipython",
    "version": 3
   },
   "file_extension": ".py",
   "mimetype": "text/x-python",
   "name": "python",
   "nbconvert_exporter": "python",
   "pygments_lexer": "ipython3",
   "version": "3.10.0"
  }
 },
 "nbformat": 4,
 "nbformat_minor": 2
}
