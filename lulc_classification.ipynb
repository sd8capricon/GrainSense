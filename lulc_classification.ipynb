{
 "cells": [
  {
   "cell_type": "code",
   "execution_count": null,
   "metadata": {},
   "outputs": [],
   "source": [
    "# %pip install earthengine-api geemap pycrs"
   ]
  },
  {
   "cell_type": "code",
   "execution_count": null,
   "metadata": {},
   "outputs": [],
   "source": [
    "# %pip install earthengine-api --upgrade"
   ]
  },
  {
   "cell_type": "code",
   "execution_count": null,
   "metadata": {},
   "outputs": [],
   "source": [
    "import ee\n",
    "import geemap\n",
    "from ipywidgets import Layout\n",
    "\n",
    "Map = geemap.Map(layout = Layout(height='600px'))\n",
    "Map.add_basemap('HYBRID')"
   ]
  },
  {
   "cell_type": "code",
   "execution_count": null,
   "metadata": {},
   "outputs": [],
   "source": [
    "# ee.Authenticate()"
   ]
  },
  {
   "cell_type": "code",
   "execution_count": null,
   "metadata": {},
   "outputs": [],
   "source": [
    "ee.Initialize()"
   ]
  },
  {
   "cell_type": "code",
   "execution_count": null,
   "metadata": {},
   "outputs": [],
   "source": [
    "SFCC= {'bands': [ 'B8', 'B4', 'B3'], 'max': 3000}\n",
    "roi = geemap.shp_to_ee(\"./Data/sangamner_shp/sangamner.shp\")\n",
    "s2 = ee.ImageCollection('COPERNICUS/S2').filterDate('2023-01-01', '2023-02-02').filter(ee.Filter.lt('CLOUDY_PIXEL_PERCENTAGE', 5)).filterBounds(roi)\n",
    "Map.centerObject(roi, 10)"
   ]
  },
  {
   "cell_type": "code",
   "execution_count": null,
   "metadata": {},
   "outputs": [],
   "source": [
    "s2"
   ]
  },
  {
   "cell_type": "code",
   "execution_count": null,
   "metadata": {},
   "outputs": [],
   "source": [
    "s2_list = s2.toList(s2.size())\n",
    "s2_list"
   ]
  },
  {
   "cell_type": "code",
   "execution_count": null,
   "metadata": {},
   "outputs": [],
   "source": [
    "fcc_img = ee.Image(s2_list.get(2)).clip(roi)\n",
    "Map.addLayer(fcc_img, SFCC, 'FCC')"
   ]
  },
  {
   "cell_type": "code",
   "execution_count": null,
   "metadata": {},
   "outputs": [],
   "source": [
    "display(Map)"
   ]
  },
  {
   "cell_type": "code",
   "execution_count": null,
   "metadata": {},
   "outputs": [],
   "source": [
    "image_index = [2,4,6,8]\n",
    "image_collection = ee.ImageCollection([ee.Image(s2_list.get(i)).clip(roi) for i in image_index]).select(['B2', 'B3', 'B4', 'B8'])\n",
    "image_collection"
   ]
  },
  {
   "cell_type": "code",
   "execution_count": null,
   "metadata": {},
   "outputs": [],
   "source": [
    "def stackCollection(imgCollection: ee.ImageCollection) -> ee.Image:\n",
    "    first = ee.Image(imgCollection.first())\n",
    "    appendBands = lambda img, previous: ee.Image(previous).addBands(img)\n",
    "    return ee.Image(imgCollection.iterate(appendBands, first))\n"
   ]
  },
  {
   "cell_type": "code",
   "execution_count": null,
   "metadata": {},
   "outputs": [],
   "source": [
    "image_stack = stackCollection(image_collection)\n",
    "image_stack"
   ]
  },
  {
   "cell_type": "code",
   "execution_count": null,
   "metadata": {},
   "outputs": [],
   "source": [
    "agri = geemap.geojson_to_ee(\"./Data/featureCollections/Agricultural_Land.geojson\")\n",
    "barren = geemap.geojson_to_ee(\"./Data/featureCollections/Barren.geojson\")\n",
    "buildup = geemap.geojson_to_ee(\"./Data/featureCollections/BuildUp.geojson\")\n",
    "water = geemap.geojson_to_ee(\"./Data/featureCollections/Water.geojson\")"
   ]
  },
  {
   "cell_type": "code",
   "execution_count": null,
   "metadata": {},
   "outputs": [],
   "source": [
    "test = agri.first()"
   ]
  },
  {
   "cell_type": "code",
   "execution_count": null,
   "metadata": {},
   "outputs": [],
   "source": [
    "feature = ee.Feature(test)\n",
    "buffer_out = feature.buffer(128) #256x256m\n",
    "buffer_out = buffer_out.bounds()\n",
    "fthis= image_stack.clip(buffer_out)\n",
    "Map.addLayer(buffer_out, {},\"idk\")\n",
    "Map.centerObject(buffer_out)"
   ]
  },
  {
   "cell_type": "code",
   "execution_count": null,
   "metadata": {},
   "outputs": [],
   "source": [
    "# Exactly 100x100 kernel\n",
    "kernel = ee.Kernel.fixed(100, 100, [[1] * 100] * 100)\n",
    "\n",
    "neighborhoodImage = image_stack.neighborhoodToArray(kernel)\n",
    "samples = neighborhoodImage.sampleRegions(collection=agri)\n",
    "exp_task = ee.batch.Export.table.toDrive(\n",
    "    folder=\"GEE\",\n",
    " collection=samples,\n",
    " fileFormat='TFRecord')"
   ]
  },
  {
   "cell_type": "code",
   "execution_count": null,
   "metadata": {},
   "outputs": [],
   "source": [
    "# exp_task.start()"
   ]
  },
  {
   "cell_type": "code",
   "execution_count": null,
   "metadata": {},
   "outputs": [],
   "source": [
    "Map"
   ]
  }
 ],
 "metadata": {
  "kernelspec": {
   "display_name": ".venv",
   "language": "python",
   "name": "python3"
  },
  "language_info": {
   "codemirror_mode": {
    "name": "ipython",
    "version": 3
   },
   "file_extension": ".py",
   "mimetype": "text/x-python",
   "name": "python",
   "nbconvert_exporter": "python",
   "pygments_lexer": "ipython3",
   "version": "3.10.10"
  }
 },
 "nbformat": 4,
 "nbformat_minor": 2
}
